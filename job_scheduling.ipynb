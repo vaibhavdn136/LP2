{
 "cells": [
  {
   "cell_type": "code",
   "execution_count": 1,
   "id": "59f0eabb",
   "metadata": {},
   "outputs": [
    {
     "name": "stdout",
     "output_type": "stream",
     "text": [
      "Jobs scheduled buddy: ['j1', 'j2', 'j4', 'j5']\n",
      "292\n"
     ]
    }
   ],
   "source": [
    "# Jobs, Profit, Slot\n",
    "iprofit = [15,27,10,100, 150]\n",
    "jobs = [\"j1\", \"j2\", \"j3\", \"j4\", \"j5\"]\n",
    "deadline = [2,3,3,3,4] \n",
    "profitNJobs = list(zip(iprofit,jobs,deadline))\n",
    "profitNJobs = sorted(profitNJobs, key = lambda x: x[0], reverse = True)\n",
    "slot = []\n",
    "for _ in range(len(jobs)):\n",
    "    slot.append(0)\n",
    "\n",
    "profit = 0\n",
    "ans = []\n",
    "\n",
    "for i in range(len(jobs)):\n",
    "    ans.append('null')\n",
    "\n",
    "for i in range(len(jobs)):\n",
    "        job = profitNJobs[i]\n",
    "        #check if slot is occupied\n",
    "        for j in range(job[2], 0, -1):\n",
    "            if slot[j] == 0:\n",
    "                ans[j] = job[1]\n",
    "                profit += job[0]\n",
    "                slot[j] = 1\n",
    "                break\n",
    "        \n",
    "print(\"Jobs scheduled buddy:\",ans[1:])\n",
    "print(profit)\n"
   ]
  },
  {
   "cell_type": "code",
   "execution_count": null,
   "id": "983d6928",
   "metadata": {},
   "outputs": [],
   "source": []
  }
 ],
 "metadata": {
  "kernelspec": {
   "display_name": "Python 3 (ipykernel)",
   "language": "python",
   "name": "python3"
  },
  "language_info": {
   "codemirror_mode": {
    "name": "ipython",
    "version": 3
   },
   "file_extension": ".py",
   "mimetype": "text/x-python",
   "name": "python",
   "nbconvert_exporter": "python",
   "pygments_lexer": "ipython3",
   "version": "3.9.5"
  }
 },
 "nbformat": 4,
 "nbformat_minor": 5
}
