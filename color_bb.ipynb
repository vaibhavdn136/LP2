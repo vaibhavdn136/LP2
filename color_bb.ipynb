{
 "cells": [
  {
   "cell_type": "code",
   "execution_count": 16,
   "id": "ccadbb0b",
   "metadata": {},
   "outputs": [
    {
     "name": "stdout",
     "output_type": "stream",
     "text": [
      "enter the number of vertices:4\n",
      "Enter the adjecency matrix :\n",
      "0 1 1 1\n",
      "1 0 1 0\n",
      "1 1 0 1\n",
      "1 0 1 0\n",
      "enter the number of colouring:3\n",
      "minimum numbers of colours:\n",
      "solution\n",
      "the vertex 0 has the colour: 1\n",
      "the vertex 1 has the colour: 2\n",
      "the vertex 2 has the colour: 3\n",
      "the vertex 3 has the colour: 2\n"
     ]
    },
    {
     "data": {
      "text/plain": [
       "[(0, 1), (1, 2), (2, 3), (3, 2)]"
      ]
     },
     "execution_count": 16,
     "metadata": {},
     "output_type": "execute_result"
    }
   ],
   "source": [
    "class Graph:\n",
    "    def __init__(self,vertices):\n",
    "        self.V = vertices\n",
    "        self.graph=[[0 for _ in range (vertices)]for _ in range(vertices)]\n",
    "        self.min_colours = float(\"inf\")\n",
    "    def isSafe(self , v , colour , c):\n",
    "        for i in range (self.V):\n",
    "            if self.graph[v][i] and colour[i]==c:\n",
    "                return False\n",
    "        return True\n",
    "    def solvecolouringGraphutil(self, m,colour,v,sol):\n",
    "        if v==self.V:\n",
    "            \n",
    "            if len(set(colour))<self.min_colours :\n",
    "                self.min_colours =len(set(colour))\n",
    "                sol.clear()\n",
    "                \n",
    "                for i in range (self.V):\n",
    "                    sol.append((i,colour[i]))\n",
    "            return True\n",
    "        for c in range(1,m+1):\n",
    "            if self.isSafe(v , colour , c):\n",
    "                colour[v]=c\n",
    "                if self.solvecolouringGraphutil(m,colour,v+1,sol):\n",
    "                    return True\n",
    "                colour[v]=0\n",
    "        return False\n",
    "    \n",
    "    def graphcolouring(self,m):\n",
    "        colour = [0]*self.V\n",
    "        sol=[]\n",
    "        if not self.solvecolouringGraphutil(m,colour,0,sol):\n",
    "            print(\"solution does not exist\")\n",
    "            return \n",
    "        \n",
    "        print(\"minimum numbers of colours:\",self.min_colours)\n",
    "        print(\"solution\")\n",
    "        for i in range(self.V):\n",
    "            print(\"the vertex\",sol[i][0],\"has the colour:\",sol[i][1])\n",
    "        return sol\n",
    "    \n",
    "N = int(input(\"enter the number of vertices:\"))\n",
    "\n",
    "g = Graph(N)\n",
    "\n",
    "print(\"Enter the adjecency matrix :\")\n",
    "\n",
    "for i in range(N):\n",
    "    row = input().split()\n",
    "    g.graph[i]=[int(val) for val in row]\n",
    "    \n",
    "num_colouring=int(input(\"enter the number of colouring:\"))\n",
    "\n",
    "g.graphcolouring(num_colouring)"
   ]
  },
  {
   "cell_type": "code",
   "execution_count": null,
   "id": "d1b8f130",
   "metadata": {},
   "outputs": [],
   "source": []
  }
 ],
 "metadata": {
  "kernelspec": {
   "display_name": "Python 3 (ipykernel)",
   "language": "python",
   "name": "python3"
  },
  "language_info": {
   "codemirror_mode": {
    "name": "ipython",
    "version": 3
   },
   "file_extension": ".py",
   "mimetype": "text/x-python",
   "name": "python",
   "nbconvert_exporter": "python",
   "pygments_lexer": "ipython3",
   "version": "3.11.1"
  }
 },
 "nbformat": 4,
 "nbformat_minor": 5
}
