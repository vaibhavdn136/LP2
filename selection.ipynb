{
 "cells": [
  {
   "cell_type": "code",
   "execution_count": 2,
   "id": "df014d6d",
   "metadata": {},
   "outputs": [
    {
     "name": "stdout",
     "output_type": "stream",
     "text": [
      "[2, 3, 5, 7, 9, 12, 56]\n"
     ]
    }
   ],
   "source": [
    "def selectionSort(arr, size):\n",
    "    \n",
    "    for ind in range(size):\n",
    "        min_index = ind\n",
    " \n",
    "        for j in range(ind + 1, size):\n",
    "            # select the minimum element in every iteration\n",
    "            if arr[j] < arr[min_index]:\n",
    "                min_index = j\n",
    "         # swapping the elements to sort the array\n",
    "        (arr[ind], arr[min_index]) = (arr[min_index], arr[ind])\n",
    " \n",
    "\n",
    "arr = [5, 7, 56, 9, 12, 2, 3]\n",
    "size = len(arr)\n",
    "selectionSort(arr, size)\n",
    "print(arr)"
   ]
  },
  {
   "cell_type": "code",
   "execution_count": null,
   "id": "795239cc",
   "metadata": {},
   "outputs": [],
   "source": []
  }
 ],
 "metadata": {
  "kernelspec": {
   "display_name": "Python 3 (ipykernel)",
   "language": "python",
   "name": "python3"
  },
  "language_info": {
   "codemirror_mode": {
    "name": "ipython",
    "version": 3
   },
   "file_extension": ".py",
   "mimetype": "text/x-python",
   "name": "python",
   "nbconvert_exporter": "python",
   "pygments_lexer": "ipython3",
   "version": "3.9.13"
  }
 },
 "nbformat": 4,
 "nbformat_minor": 5
}
