{
 "cells": [
  {
   "cell_type": "code",
   "execution_count": 12,
   "id": "b9c52ef9",
   "metadata": {},
   "outputs": [
    {
     "name": "stdout",
     "output_type": "stream",
     "text": [
      "['A', 'B', 1]\n",
      "['C', 'D', 1]\n",
      "['C', 'F', 2]\n",
      "['F', 'G', 2]\n",
      "['A', 'C', 3]\n",
      "['D', 'E', 5]\n",
      "Total weight of minimum spanning tree: 14\n"
     ]
    }
   ],
   "source": [
    "def find(graph, node):\n",
    "    if graph[node] < 0:\n",
    "        return node\n",
    "    else:\n",
    "        temp = find(graph, graph[node])\n",
    "        graph[node] = temp\n",
    "        return temp\n",
    "    \n",
    "\n",
    "def union(graph, a, b, weight, answer):\n",
    "    ta = chr(ord('A') + a - 1)  # Convert the node values to characters\n",
    "    tb = chr(ord('A') + b - 1)\n",
    "    a = find(graph, a)\n",
    "    b = find(graph, b)\n",
    "    if a == b:\n",
    "        pass\n",
    "    else:\n",
    "        answer.append([ta, tb, weight])  # Include the weight in the answer\n",
    "        if graph[a] < graph[b]:\n",
    "            graph[a] = graph[a] + graph[b]\n",
    "            graph[b] = a\n",
    "        else:\n",
    "            graph[b] = graph[a] + graph[b]\n",
    "            graph[a] = b\n",
    "\n",
    "\n",
    "ipt = [[1, 2, 1], [1, 3, 3], [2, 6, 4], [3, 6, 2], [3, 4, 1], [4, 5, 5], [6, 7, 2], [6, 5, 6], [7, 5, 7]]\n",
    "n = 7\n",
    "\n",
    "answer = []\n",
    "ipt = sorted(ipt, key=lambda ipt: ipt[2])\n",
    "graph = [-1] * (n + 1)\n",
    "total_weight = 0  # Variable to keep track of the total weight\n",
    "\n",
    "for u, v, d in ipt:\n",
    "    if find(graph, u) != find(graph, v):  # Check if adding the edge creates a cycle\n",
    "        union(graph, u, v, d, answer)  # Pass the weight to the union function\n",
    "        total_weight += d  # Update the total weight\n",
    "\n",
    "for item in answer:\n",
    "    print(item)\n",
    "\n",
    "print(\"Total weight of minimum spanning tree:\", total_weight)\n"
   ]
  },
  {
   "cell_type": "code",
   "execution_count": null,
   "id": "fc0ba266",
   "metadata": {},
   "outputs": [],
   "source": []
  }
 ],
 "metadata": {
  "kernelspec": {
   "display_name": "Python 3 (ipykernel)",
   "language": "python",
   "name": "python3"
  },
  "language_info": {
   "codemirror_mode": {
    "name": "ipython",
    "version": 3
   },
   "file_extension": ".py",
   "mimetype": "text/x-python",
   "name": "python",
   "nbconvert_exporter": "python",
   "pygments_lexer": "ipython3",
   "version": "3.9.13"
  }
 },
 "nbformat": 4,
 "nbformat_minor": 5
}
