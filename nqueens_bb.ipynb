{
 "cells": [
  {
   "cell_type": "code",
   "execution_count": 6,
   "id": "4e263333",
   "metadata": {},
   "outputs": [
    {
     "name": "stdout",
     "output_type": "stream",
     "text": [
      "Please enter the number of queens you want:\n",
      "4\n",
      "The total number of possible outcomes is: 2\n",
      "Solutions:\n",
      "- Q - -\n",
      "- - - Q\n",
      "Q - - -\n",
      "- - Q -\n",
      "\n",
      "- - Q -\n",
      "Q - - -\n",
      "- - - Q\n",
      "- Q - -\n",
      "\n"
     ]
    }
   ],
   "source": [
    "def solve(board, row, cols, ndiag, rdiag, asf):\n",
    "    global count\n",
    "    if row == len(board):\n",
    "        solutions.append(asf)\n",
    "        count += 1\n",
    "        return\n",
    "\n",
    "    for clm in range(len(board[0])):\n",
    "        if not cols[clm] and not ndiag[row + clm] and not rdiag[row - clm + len(board) - 1]:\n",
    "            board[row][clm] = True\n",
    "            cols[clm] = True\n",
    "            ndiag[row + clm] = True\n",
    "            rdiag[row - clm + len(board) - 1] = True\n",
    "            solve(board, row + 1, cols, ndiag, rdiag, asf + str(row) + \"-\" + str(clm) + \" ,\")\n",
    "            cols[clm] = False\n",
    "            ndiag[row + clm] = False\n",
    "            rdiag[row - clm + len(board) - 1] = False\n",
    "\n",
    "\n",
    "print(\"Please enter the number of queens you want:\")\n",
    "try:\n",
    "    n = int(input())\n",
    "except ValueError:\n",
    "    print(\"Invalid input. Please enter a valid integer.\")\n",
    "    exit()\n",
    "\n",
    "if n <= 0:\n",
    "    print(\"Invalid input. Number of queens should be a positive integer.\")\n",
    "    exit()\n",
    "\n",
    "board = [[False] * n for _ in range(n)]\n",
    "cols = [False for _ in range(n)]\n",
    "ndiag = [False for _ in range(2 * n - 1)]\n",
    "rdiag = [False for _ in range(2 * n - 1)]\n",
    "count = 0\n",
    "solutions = []\n",
    "\n",
    "solve(board, 0, cols, ndiag, rdiag, \"\")\n",
    "\n",
    "print(\"The total number of possible outcomes is:\", count)\n",
    "print(\"Solutions:\")\n",
    "\n",
    "# Convert solutions to a matrix form\n",
    "for solution in solutions:\n",
    "    matrix = [['-' for _ in range(n)] for _ in range(n)]\n",
    "    positions = solution.split(',')\n",
    "    for position in positions:\n",
    "        if position.strip():\n",
    "            row, col = map(int, position.split('-'))\n",
    "            matrix[row][col] = 'Q'\n",
    "    for row in matrix:\n",
    "        print(' '.join(row))\n",
    "    print()\n"
   ]
  },
  {
   "cell_type": "code",
   "execution_count": null,
   "id": "81704db2",
   "metadata": {},
   "outputs": [],
   "source": []
  }
 ],
 "metadata": {
  "kernelspec": {
   "display_name": "Python 3 (ipykernel)",
   "language": "python",
   "name": "python3"
  },
  "language_info": {
   "codemirror_mode": {
    "name": "ipython",
    "version": 3
   },
   "file_extension": ".py",
   "mimetype": "text/x-python",
   "name": "python",
   "nbconvert_exporter": "python",
   "pygments_lexer": "ipython3",
   "version": "3.9.13"
  }
 },
 "nbformat": 4,
 "nbformat_minor": 5
}
