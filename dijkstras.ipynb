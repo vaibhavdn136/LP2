{
 "cells": [
  {
   "cell_type": "code",
   "execution_count": 1,
   "id": "c4d15999",
   "metadata": {},
   "outputs": [
    {
     "name": "stdout",
     "output_type": "stream",
     "text": [
      "Shortest distances from node A:\n",
      "Node: A \tDistance: 0\n",
      "Node: B \tDistance: 3\n",
      "Node: C \tDistance: 7\n",
      "Node: D \tDistance: 1\n",
      "Node: E \tDistance: 2\n"
     ]
    }
   ],
   "source": [
    "import sys\n",
    "\n",
    "def dijkstra(graph, start):\n",
    "    visited, distance = set(), {node: sys.maxsize for node in graph}\n",
    "    distance[start] = 0\n",
    "\n",
    "    while len(visited) < len(graph):\n",
    "        min_node = min((node for node in graph if node not in visited), key=distance.get)\n",
    "        if distance[min_node] == sys.maxsize:\n",
    "            break\n",
    "        visited.add(min_node)\n",
    "\n",
    "        for neighbor, weight in graph[min_node].items():\n",
    "            new_dist = distance[min_node] + weight\n",
    "            distance[neighbor] = min(new_dist, distance[neighbor])\n",
    "\n",
    "    return distance\n",
    "\n",
    "\n",
    "if __name__ == '__main__':\n",
    "    graph = {\n",
    "        'A': {'B': 6, 'D': 1},\n",
    "        'B': {'A': 6, 'C': 5, 'D': 2, 'E': 2},\n",
    "        'C': {'B': 5, 'E': 5},\n",
    "        'D': {'A': 1, 'B': 2, 'E': 1},\n",
    "        'E': {'B': 2, 'C': 5, 'D': 1},\n",
    "    }\n",
    "    start_node = 'A'\n",
    "    shortest_distances = dijkstra(graph, start_node)\n",
    "\n",
    "    print(\"Shortest distances from node\", start_node + \":\")\n",
    "    for node, distance in shortest_distances.items():\n",
    "        print(\"Node:\", node, \"\\tDistance:\", distance)"
   ]
  },
  {
   "cell_type": "code",
   "execution_count": null,
   "id": "fd42bf9f",
   "metadata": {},
   "outputs": [],
   "source": []
  }
 ],
 "metadata": {
  "kernelspec": {
   "display_name": "Python 3 (ipykernel)",
   "language": "python",
   "name": "python3"
  },
  "language_info": {
   "codemirror_mode": {
    "name": "ipython",
    "version": 3
   },
   "file_extension": ".py",
   "mimetype": "text/x-python",
   "name": "python",
   "nbconvert_exporter": "python",
   "pygments_lexer": "ipython3",
   "version": "3.9.13"
  }
 },
 "nbformat": 4,
 "nbformat_minor": 5
}
