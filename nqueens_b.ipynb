{
 "cells": [
  {
   "cell_type": "code",
   "execution_count": 7,
   "id": "46dde4bf",
   "metadata": {},
   "outputs": [
    {
     "name": "stdout",
     "output_type": "stream",
     "text": [
      "Enter the value of N: 4\n",
      "Total solutions: 2\n",
      ". Q . .\n",
      ". . . Q\n",
      "Q . . .\n",
      ". . Q .\n",
      "\n",
      ". . Q .\n",
      "Q . . .\n",
      ". . . Q\n",
      ". Q . .\n",
      "\n"
     ]
    }
   ],
   "source": [
    "def isSafe(chess, row, col):\n",
    "    r = row\n",
    "    c = col\n",
    "\n",
    "    # Upper column check\n",
    "    while row >= 0:\n",
    "        if chess[row][col] == 1:\n",
    "            return False\n",
    "        row -= 1\n",
    "    \n",
    "    row = r\n",
    "    col = c\n",
    "\n",
    "    # Upper left diagonal check\n",
    "    while row >= 0 and col >= 0:\n",
    "        if chess[row][col] == 1:\n",
    "            return False\n",
    "        row -= 1\n",
    "        col -= 1\n",
    "    \n",
    "    row = r\n",
    "    col = c\n",
    "\n",
    "    # Upper right diagonal check\n",
    "    while row >= 0 and col < len(chess):\n",
    "        if chess[row][col] == 1:\n",
    "            return False\n",
    "        row -= 1\n",
    "        col += 1\n",
    "    \n",
    "    return True\n",
    "\n",
    "\n",
    "def solveNQueens(n):\n",
    "    def printSolution(chess):\n",
    "        matrix = [['.' for _ in range(n)] for _ in range(n)]\n",
    "        for i in range(n):\n",
    "            for j in range(n):\n",
    "                if chess[i][j] == 1:\n",
    "                    matrix[i][j] = 'Q'\n",
    "        return matrix\n",
    "\n",
    "    def solveNQueensUtil(chess, row, result):\n",
    "        if row == n:\n",
    "            result.append(printSolution(chess))\n",
    "            return\n",
    "\n",
    "        for col in range(n):\n",
    "            if isSafe(chess, row, col):\n",
    "                chess[row][col] = 1\n",
    "                solveNQueensUtil(chess, row + 1, result)\n",
    "                chess[row][col] = 0\n",
    "\n",
    "    chess = [[0] * n for _ in range(n)]\n",
    "    result = []\n",
    "    solveNQueensUtil(chess, 0, result)\n",
    "    return result\n",
    "\n",
    "\n",
    "n = int(input(\"Enter the value of N: \"))\n",
    "solutions = solveNQueens(n)\n",
    "\n",
    "print(\"Total solutions:\", len(solutions))\n",
    "for solution in solutions:\n",
    "    for row in solution:\n",
    "        print(\" \".join(row))\n",
    "    print()\n"
   ]
  },
  {
   "cell_type": "code",
   "execution_count": null,
   "id": "2c92408f",
   "metadata": {},
   "outputs": [],
   "source": []
  }
 ],
 "metadata": {
  "kernelspec": {
   "display_name": "Python 3 (ipykernel)",
   "language": "python",
   "name": "python3"
  },
  "language_info": {
   "codemirror_mode": {
    "name": "ipython",
    "version": 3
   },
   "file_extension": ".py",
   "mimetype": "text/x-python",
   "name": "python",
   "nbconvert_exporter": "python",
   "pygments_lexer": "ipython3",
   "version": "3.9.13"
  }
 },
 "nbformat": 4,
 "nbformat_minor": 5
}
