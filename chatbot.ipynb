{
 "cells": [
  {
   "cell_type": "markdown",
   "id": "979a2c9b",
   "metadata": {},
   "source": [
    "Elementary chatbot for any suitable customer interaction application (e.g. chat bot for jio mart, chat bot for redbus application)"
   ]
  },
  {
   "cell_type": "code",
   "execution_count": null,
   "id": "0239bfdf",
   "metadata": {},
   "outputs": [
    {
     "name": "stdout",
     "output_type": "stream",
     "text": [
      "Hello!\n",
      "> help\n",
      "I'm here to help! Please let me know how I can assist you.\n"
     ]
    }
   ],
   "source": [
    "import random\n",
    "\n",
    "# Function to generate a random greeting\n",
    "def get_greeting():\n",
    "    greetings = [\"Hello!\", \"Hi there!\", \"Welcome!\", \"Greetings!\"]\n",
    "    return random.choice(greetings)\n",
    "\n",
    "# Function to analyze user input and generate a response\n",
    "def generate_response(user_input):\n",
    "    # Example response generation based on user input\n",
    "    if \"product\" in user_input:\n",
    "        return \"We have a wide range of products available. How can I assist you in finding a specific product?\"\n",
    "    elif \"price\" in user_input:\n",
    "        return \"Our prices vary depending on the product. Could you please provide more details so that I can assist you better?\"\n",
    "    elif \"delivery\" in user_input:\n",
    "        return \"We offer various delivery options. To provide accurate information, could you please provide your location?\"\n",
    "    elif \"booking\" in user_input:\n",
    "        return \"Sure! I can help you with that. May I know the destination and travel date?\"\n",
    "    elif \"account\" in user_input:\n",
    "        return \"If you need assistance with your account, please visit our website and go to the account section.\"\n",
    "    elif \"help\" in user_input:\n",
    "        return \"I'm here to help! Please let me know how I can assist you.\"\n",
    "    else:\n",
    "        return \"I'm sorry, but I couldn't understand your request. Could you please rephrase or provide more information?\"\n",
    "\n",
    "# Main program loop\n",
    "def main():\n",
    "    print(get_greeting())\n",
    "    while True:\n",
    "        user_input = input(\"> \")\n",
    "        response = generate_response(user_input.lower())\n",
    "        print(response)\n",
    "\n",
    "        # Break the loop if user wants to exit\n",
    "        if \"bye\" in user_input.lower() or \"quit\" in user_input.lower():\n",
    "            print(\"Thank you for using our chatbot. Goodbye!\")\n",
    "            break\n",
    "\n",
    "# Run the main program\n",
    "if __name__ == \"__main__\":\n",
    "    main()"
   ]
  },
  {
   "cell_type": "code",
   "execution_count": null,
   "id": "02e0b707",
   "metadata": {},
   "outputs": [],
   "source": []
  }
 ],
 "metadata": {
  "kernelspec": {
   "display_name": "Python 3 (ipykernel)",
   "language": "python",
   "name": "python3"
  },
  "language_info": {
   "codemirror_mode": {
    "name": "ipython",
    "version": 3
   },
   "file_extension": ".py",
   "mimetype": "text/x-python",
   "name": "python",
   "nbconvert_exporter": "python",
   "pygments_lexer": "ipython3",
   "version": "3.9.5"
  }
 },
 "nbformat": 4,
 "nbformat_minor": 5
}
