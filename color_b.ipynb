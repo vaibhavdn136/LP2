{
 "cells": [
  {
   "cell_type": "code",
   "execution_count": 4,
   "id": "08b84c07",
   "metadata": {},
   "outputs": [
    {
     "name": "stdout",
     "output_type": "stream",
     "text": [
      "Enter the number of vertices in the graph: 4\n",
      "Enter the adjacency matrix for the graph:\n",
      "0 1 1 1\n",
      "1 0 1 0\n",
      "1 1 0 1\n",
      "1 0 1 0\n",
      "Enter the number of colors available: 3\n",
      "Solution:\n",
      "Vertex 0 is colored with 1\n",
      "Vertex 1 is colored with 2\n",
      "Vertex 2 is colored with 3\n",
      "Vertex 3 is colored with 2\n"
     ]
    },
    {
     "data": {
      "text/plain": [
       "[(0, 1), (1, 2), (2, 3), (3, 2)]"
      ]
     },
     "execution_count": 4,
     "metadata": {},
     "output_type": "execute_result"
    }
   ],
   "source": [
    "class Graph:\n",
    "    def __init__(self, vertices):\n",
    "        self.V = vertices\n",
    "        self.graph = [[0 for _ in range(vertices)] for _ in range(vertices)]\n",
    "\n",
    "    def isSafe(self, v, color, c):\n",
    "        for i in range(self.V):\n",
    "            if self.graph[v][i] and color[i] == c:\n",
    "                return False\n",
    "        return True\n",
    "\n",
    "    def graphColoringUtil(self, m, color, v, sol):\n",
    "        if v == self.V:\n",
    "            return True\n",
    "\n",
    "        for c in range(1, m + 1):\n",
    "            if self.isSafe(v, color, c):\n",
    "                color[v] = c\n",
    "                if self.graphColoringUtil(m, color, v + 1, sol):\n",
    "                    return True\n",
    "                color[v] = 0\n",
    "\n",
    "        return False\n",
    "\n",
    "    def graphColoring(self, m):\n",
    "        color = [0] * self.V\n",
    "        sol = []\n",
    "        if not self.graphColoringUtil(m, color, 0, sol):\n",
    "            print(\"No solution exists.\")\n",
    "            return\n",
    "\n",
    "        print(\"Solution:\")\n",
    "        for i in range(self.V):\n",
    "            sol.append((i, color[i]))\n",
    "            print(\"Vertex\", i, \"is colored with\", color[i])\n",
    "\n",
    "        return sol\n",
    "\n",
    "\n",
    "\n",
    "N = int(input(\"Enter the number of vertices in the graph: \"))\n",
    "\n",
    "g = Graph(N)\n",
    "\n",
    "\n",
    "print(\"Enter the adjacency matrix for the graph:\")\n",
    "for i in range(N):\n",
    "    row = input().split()\n",
    "    g.graph[i] = [int(val) for val in row]\n",
    "\n",
    "num_colors = int(input(\"Enter the number of colors available: \"))\n",
    "\n",
    "\n",
    "g.graphColoring(num_colors)\n"
   ]
  },
  {
   "cell_type": "code",
   "execution_count": null,
   "id": "26cd512d",
   "metadata": {},
   "outputs": [],
   "source": []
  }
 ],
 "metadata": {
  "kernelspec": {
   "display_name": "Python 3 (ipykernel)",
   "language": "python",
   "name": "python3"
  },
  "language_info": {
   "codemirror_mode": {
    "name": "ipython",
    "version": 3
   },
   "file_extension": ".py",
   "mimetype": "text/x-python",
   "name": "python",
   "nbconvert_exporter": "python",
   "pygments_lexer": "ipython3",
   "version": "3.11.1"
  }
 },
 "nbformat": 4,
 "nbformat_minor": 5
}
