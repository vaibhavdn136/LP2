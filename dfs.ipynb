{
 "cells": [
  {
   "cell_type": "code",
   "execution_count": 10,
   "id": "96913a52",
   "metadata": {},
   "outputs": [
    {
     "name": "stdout",
     "output_type": "stream",
     "text": [
      "Following is the depth-first search\n",
      "A B E C D \n",
      "following is the breadth-first search\n",
      "A B C D E "
     ]
    }
   ],
   "source": [
    "graph = {\n",
    "    'A':['B','C','D'],'B':['E'],'C':['D','E'],'D':[],'E':[]\n",
    "}\n",
    "\n",
    "dfsvisited = set()\n",
    "\n",
    "def dfs(dfsvisited, graph, root):\n",
    "    if root not in dfsvisited:\n",
    "        print(root, end=\" \")\n",
    "        dfsvisited.add(root)\n",
    "        for neighbour in graph[root]:\n",
    "            dfs(dfsvisited,graph,neighbour)\n",
    "            \n",
    "            \n",
    "            \n",
    "\n",
    "bfsvisited = []\n",
    "queue = []\n",
    "\n",
    "def bfs(bfsvisited, graph, node):\n",
    "    bfsvisited.append(node)\n",
    "    queue.append(node)\n",
    "    \n",
    "    while queue:\n",
    "        m = queue.pop(0)\n",
    "        print(m, end=\" \")\n",
    "        \n",
    "        for neighbour in graph[m]:\n",
    "            if neighbour not in bfsvisited:\n",
    "                bfsvisited.append(neighbour)\n",
    "                queue.append(neighbour)\n",
    "                \n",
    "\n",
    "\n",
    "            \n",
    "            \n",
    "print(\"Following is the depth-first search\")            \n",
    "dfs(dfsvisited, graph, 'A')\n",
    "\n",
    "print()\n",
    "\n",
    "print(\"following is the breadth-first search\")\n",
    "bfs(bfsvisited, graph, 'A')"
   ]
  },
  {
   "cell_type": "code",
   "execution_count": null,
   "id": "d43c456d",
   "metadata": {},
   "outputs": [],
   "source": []
  }
 ],
 "metadata": {
  "kernelspec": {
   "display_name": "Python 3 (ipykernel)",
   "language": "python",
   "name": "python3"
  },
  "language_info": {
   "codemirror_mode": {
    "name": "ipython",
    "version": 3
   },
   "file_extension": ".py",
   "mimetype": "text/x-python",
   "name": "python",
   "nbconvert_exporter": "python",
   "pygments_lexer": "ipython3",
   "version": "3.9.5"
  }
 },
 "nbformat": 4,
 "nbformat_minor": 5
}
