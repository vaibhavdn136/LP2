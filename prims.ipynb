{
 "cells": [
  {
   "cell_type": "code",
   "execution_count": 5,
   "id": "fc58f88e",
   "metadata": {},
   "outputs": [
    {
     "name": "stdout",
     "output_type": "stream",
     "text": [
      "A -- C: 1\n",
      "C -- B: 2\n",
      "B -- D: 1\n"
     ]
    }
   ],
   "source": [
    "from heapq import heappop, heappush, heapify\n",
    "\n",
    "def prim(graph):\n",
    "    start_vertex = list(graph.keys())[0]\n",
    "    mst = []\n",
    "    visited = set([start_vertex])\n",
    "    edges = [(weight, start_vertex, neighbor) for neighbor, weight in graph[start_vertex]]\n",
    "    heapify(edges)\n",
    "\n",
    "    while edges:\n",
    "        weight, u, v = heappop(edges)\n",
    "        if v not in visited:\n",
    "            visited.add(v)\n",
    "            mst.append((u, v, weight))\n",
    "\n",
    "            for neighbor, weight in graph[v]:\n",
    "                if neighbor not in visited:\n",
    "                    heappush(edges, (weight, v, neighbor))\n",
    "\n",
    "    return mst\n",
    "\n",
    "graph = {\n",
    "    'A': [('B', 5), ('C', 1)],\n",
    "    'B': [('A', 5), ('C', 2), ('D', 1)],\n",
    "    'C': [('A', 1), ('B', 2), ('D', 4)],\n",
    "    'D': [('B', 1), ('C', 4)]\n",
    "}\n",
    "\n",
    "minimum_spanning_tree = prim(graph)\n",
    "for edge in minimum_spanning_tree:\n",
    "    u, v, weight = edge\n",
    "    print(f'{u} -- {v}: {weight}')"
   ]
  },
  {
   "cell_type": "code",
   "execution_count": null,
   "id": "06a686c5",
   "metadata": {},
   "outputs": [],
   "source": []
  }
 ],
 "metadata": {
  "kernelspec": {
   "display_name": "Python 3 (ipykernel)",
   "language": "python",
   "name": "python3"
  },
  "language_info": {
   "codemirror_mode": {
    "name": "ipython",
    "version": 3
   },
   "file_extension": ".py",
   "mimetype": "text/x-python",
   "name": "python",
   "nbconvert_exporter": "python",
   "pygments_lexer": "ipython3",
   "version": "3.9.13"
  }
 },
 "nbformat": 4,
 "nbformat_minor": 5
}
